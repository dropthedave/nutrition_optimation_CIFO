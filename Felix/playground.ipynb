{
 "cells": [
  {
   "cell_type": "code",
   "execution_count": 13,
   "metadata": {},
   "outputs": [
    {
     "data": {
      "text/plain": [
       "[1, 1, 1]"
      ]
     },
     "execution_count": 13,
     "metadata": {},
     "output_type": "execute_result"
    }
   ],
   "source": [
    "import numpy as np \n",
    "\n",
    "rl = [1,2,3]\n",
    "x = list(np.array([1,1,1,1,1,1,1,1,1,1]))\n",
    "y = [0,0,0,0,0,0,0,0,0,0]\n",
    "\n",
    "x[:rl[2]]"
   ]
  },
  {
   "cell_type": "code",
   "execution_count": 36,
   "metadata": {},
   "outputs": [
    {
     "ename": "TypeError",
     "evalue": "unsupported operand type(s) for +: 'types.GenericAlias' and 'types.GenericAlias'",
     "output_type": "error",
     "traceback": [
      "\u001b[0;31m---------------------------------------------------------------------------\u001b[0m",
      "\u001b[0;31mTypeError\u001b[0m                                 Traceback (most recent call last)",
      "\u001b[1;32m/Users/felix/Documents/Uni/CI4O/CIFO_Project_Group2/Felix/playground.ipynb Cell 2\u001b[0m in \u001b[0;36m<cell line: 3>\u001b[0;34m()\u001b[0m\n\u001b[1;32m      <a href='vscode-notebook-cell:/Users/felix/Documents/Uni/CI4O/CIFO_Project_Group2/Felix/playground.ipynb#W2sZmlsZQ%3D%3D?line=0'>1</a>\u001b[0m \u001b[39mimport\u001b[39;00m \u001b[39mrandom\u001b[39;00m \n\u001b[0;32m----> <a href='vscode-notebook-cell:/Users/felix/Documents/Uni/CI4O/CIFO_Project_Group2/Felix/playground.ipynb#W2sZmlsZQ%3D%3D?line=2'>3</a>\u001b[0m x \u001b[39m=\u001b[39m np\u001b[39m.\u001b[39marray(\u001b[39mlist\u001b[39;49m[\u001b[39m1\u001b[39;49m] \u001b[39m+\u001b[39;49m \u001b[39mlist\u001b[39;49m[\u001b[39m1\u001b[39;49m])\n\u001b[1;32m      <a href='vscode-notebook-cell:/Users/felix/Documents/Uni/CI4O/CIFO_Project_Group2/Felix/playground.ipynb#W2sZmlsZQ%3D%3D?line=4'>5</a>\u001b[0m x\n",
      "\u001b[0;31mTypeError\u001b[0m: unsupported operand type(s) for +: 'types.GenericAlias' and 'types.GenericAlias'"
     ]
    }
   ],
   "source": [
    "import random \n",
    "\n",
    "x = np.array(list[1] + list[1])\n",
    "\n",
    "x"
   ]
  }
 ],
 "metadata": {
  "kernelspec": {
   "display_name": "base",
   "language": "python",
   "name": "python3"
  },
  "language_info": {
   "codemirror_mode": {
    "name": "ipython",
    "version": 3
   },
   "file_extension": ".py",
   "mimetype": "text/x-python",
   "name": "python",
   "nbconvert_exporter": "python",
   "pygments_lexer": "ipython3",
   "version": "3.9.12"
  },
  "orig_nbformat": 4
 },
 "nbformat": 4,
 "nbformat_minor": 2
}
