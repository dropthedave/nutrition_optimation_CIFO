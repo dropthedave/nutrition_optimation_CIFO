{
 "cells": [
  {
   "attachments": {},
   "cell_type": "markdown",
   "metadata": {},
   "source": [
    "# Imports"
   ]
  },
  {
   "cell_type": "code",
   "execution_count": null,
   "metadata": {},
   "outputs": [],
   "source": [
    "# Data\n",
    "from data                   import commodities, nutrients\n",
    "# Importing libraries\n",
    "from random                 import shuffle, choice, sample, random, uniform\n",
    "from copy                   import deepcopy\n",
    "from operator               import attrgetter\n",
    "import matplotlib.pyplot    as plt\n",
    "import numpy                as np\n",
    "import pandas               as pd\n",
    "# Importing classes and functions\n",
    "from individual             import Individual                                       #\n",
    "from population             import Population                                       #\n",
    "from selection              import roulette, ranked, tournament                     #\n",
    "from variation              import crossover, mutation                              #\n",
    "from fitness                import get_fitness                                      #"
   ]
  },
  {
   "attachments": {},
   "cell_type": "markdown",
   "metadata": {},
   "source": [
    "# Functions"
   ]
  },
  {
   "cell_type": "code",
   "execution_count": null,
   "metadata": {},
   "outputs": [],
   "source": [
    "def evaluation(population_size, evolve_parameters, iterations=30):\n",
    "    history = {}\n",
    "    items_combined = []\n",
    "    products = []\n",
    "    populations = []\n",
    "    for i in range(iterations):\n",
    "        # Monkey Patching\n",
    "        Individual.get_fitness = get_fitness\n",
    "        # create initial population\n",
    "        pop = Population(size=population_size, optim=\"min\", sol_size=len(commodities), valid_set=list(range(2)), replacement=True)\n",
    "        # evolve\n",
    "        pop.evolve(\n",
    "            select = evolve_parameters['select'],\n",
    "            tournament_k = evolve_parameters['tournament_k'],\n",
    "            gens = evolve_parameters['gens'], \n",
    "            mut_prob = evolve_parameters['mut_prob'],\n",
    "            mutate = evolve_parameters['mutate'],\n",
    "            mut_type = evolve_parameters['mut_type'],\n",
    "            mut_cycles = evolve_parameters['mut_cycles'],\n",
    "            bit_flips = evolve_parameters['bit_flips'],\n",
    "            xo_prob = evolve_parameters['xo_prob'],\n",
    "            crossover = evolve_parameters['crossover'],\n",
    "            xo_type = evolve_parameters['xo_type'],\n",
    "            elitism = evolve_parameters['elitism']\n",
    "        )\n",
    "        \n",
    "        history[i] = pop.history_fitness\n",
    "        items_combined += pop.history_products\n",
    "        products.append(pop.history_products)\n",
    "        populations.append(pop)\n",
    "\n",
    "    product_count = {i:items_combined.count(i) for i in set(items_combined)}\n",
    "\n",
    "    min_individual = np.argmin(np.array(list(history.values()))[:,-1])\n",
    "    table = {}\n",
    "    for i in products[min_individual]:\n",
    "        table[i] = commodities[i][0]\n",
    "    table['SUM'] = round(sum(table.values()),4)\n",
    "\n",
    "    best_of_individuals = (np.array(list(history.values()))[:,-1])\n",
    "    print(f'Average - Fitness: {round(np.mean(best_of_individuals),4)} USD$')\n",
    "    print(f'Standard Deviation - Fitness: {round(np.std(best_of_individuals),4)} USD$')\n",
    "    \n",
    "    return history, product_count, table, populations[min_individual]\n",
    "\n",
    "def plot_results(results, product_count, table, nutri, nutrients=nutrients):\n",
    "    fig = plt.figure(figsize=(15, 15))\n",
    "    gs = fig.add_gridspec(nrows=2, ncols=2)\n",
    "\n",
    "    ax1 = fig.add_subplot(gs[0, 0])\n",
    "    ax2 = fig.add_subplot(gs[0, 1])\n",
    "    # ax3 = fig.add_subplot(gs[1, :])\n",
    "    ax3 = fig.add_subplot(gs[1, 0])\n",
    "    ax4 = fig.add_subplot(gs[1, 1])\n",
    "\n",
    "    # fitness history lineplot\n",
    "    for i in results.keys():\n",
    "        ax1.plot(list(results.values())[i-1], label=f'Run {i}')\n",
    "    ax1.plot(np.mean(list(results.values()), axis=0), color='black', label='Mean', linestyle='--', linewidth=4)\n",
    "    ax1.spines['top'].set_visible(False)\n",
    "    ax1.spines['right'].set_visible(False)\n",
    "    ax1.set_title('Fitness History')\n",
    "    ax1.set_xlabel('Generation')\n",
    "    ax1.set_ylabel('Fitness ($)')\n",
    "    ax1.legend(ncol=2, fontsize=8, loc='upper right')\n",
    "\n",
    "    # product count barplot\n",
    "    product_count_sorted = {k: v for k, v in sorted(product_count.items(), key=lambda item: item[1])[-10:]}\n",
    "    prods = list(product_count_sorted.keys())\n",
    "    vals = list(product_count_sorted.values())\n",
    "    ax2.barh(prods, vals)\n",
    "    for i, v in enumerate(vals):\n",
    "        if len(prods[i]) <= v*4:\n",
    "            # label fits inside bar\n",
    "            ax2.text(v / 2, i, prods[i], ha='center', va='center')\n",
    "        else:\n",
    "            # label doesn't fit inside bar, place at edge\n",
    "            ax2.text(v + 0.5, i, prods[i], ha='left', va='center')\n",
    "    ax2.spines['top'].set_visible(False)\n",
    "    ax2.spines['right'].set_visible(False)\n",
    "    ax2.spines['left'].set_visible(False)\n",
    "    ax2.set_yticks([])\n",
    "    ax2.set_yticklabels([])\n",
    "    ax2.set_title('Most Common Optimal Products (Top 10)')\n",
    "    ax2.set_xlabel('Count')\n",
    "\n",
    "    # best solution table\n",
    "    df = pd.DataFrame(table, index=['Price ($)']).T.reset_index().rename(columns={'index':'Product'})\n",
    "    cols = [[\"w\",\"w\"] for i in range(len(df))]\n",
    "    cols[-1] = [\"#C5C7C5\",\"#C5C7C5\"]\n",
    "    table = ax3.table(cellText=df.values,colLabels=df.columns,rowLabels=df.index,loc='center',cellLoc='center', cellColours=cols)\n",
    "    table.auto_set_font_size(False)\n",
    "    table.set_fontsize(7)\n",
    "    # table.scale(1, 1.5)\n",
    "    ax3.get_xaxis().set_visible(False)\n",
    "    ax3.get_yaxis().set_visible(False)\n",
    "    ax3.set_title('Best Solution')\n",
    "\n",
    "    # nutrients of best solution\n",
    "    generations = list(range(len(nutri.history_calories)))\n",
    "    ax4.plot(generations, nutri.history_calories, label='Calories (kcal)', c='red')\n",
    "    ax4.axhline(y = nutrients['Calories (kcal)'], linestyle = ':', c='red')\n",
    "    ax4.plot(generations, nutri.history_protein, label='Protein (g)', c='green')\n",
    "    ax4.axhline(y = nutrients['Protein (g)'], linestyle = ':', c='green')\n",
    "    ax4.plot(generations, nutri.history_carbohydrates, label='Carbohydrates (g)', c='blue')\n",
    "    ax4.axhline(y = nutrients['Carbohydrates (g)'], linestyle = ':', c='blue')\n",
    "    ax4.plot(generations, nutri.history_fat, label='Total Fat (g)', c='orange')\n",
    "    ax4.axhline(y = nutrients['Total Fat (g)'], linestyle = ':', c='orange')\n",
    "    ax4.plot(generations, nutri.history_sodium, label='Sodium (mg)', c='magenta')\n",
    "    ax4.axhline(y = nutrients['Sodium (mg)'], linestyle = ':', c='magenta')\n",
    "    ax4.spines['top'].set_visible(False)\n",
    "    ax4.spines['right'].set_visible(False)\n",
    "    ax4.set_yscale(\"log\")\n",
    "    ax4.set_xlabel(\"Generations\")\n",
    "    ax4.set_ylabel(\"Nutrition Values\")\n",
    "    ax4.set_title(\"Nutrition Curves\")\n",
    "    ax4.legend(loc =\"upper right\", fontsize=\"8\")\n",
    "\n",
    "    plt.show()"
   ]
  },
  {
   "attachments": {},
   "cell_type": "markdown",
   "metadata": {},
   "source": [
    "# 1st Run\n",
    "\n",
    "|Parameter                 | Value             |\n",
    "|--------------------------|-------------------|\n",
    "|Generations per Iterarion:| 30                |\n",
    "|Population Size:          | 500               |               \n",
    "|Selection:                | Roulette          |\n",
    "|Mutation:                 | Single-Bit-Flip   |\n",
    "|Crossover:                | One-Point         |\n",
    "|Elitism:                  | True              |"
   ]
  },
  {
   "cell_type": "code",
   "execution_count": null,
   "metadata": {},
   "outputs": [],
   "source": [
    "evolve_parameters = {\n",
    "    \"select\": roulette,\n",
    "    \"tournament_k\": None,\n",
    "    \"gens\": 30,\n",
    "    \"mut_prob\": 0.2,\n",
    "    \"mutate\": mutation,\n",
    "    \"mut_type\": \"single_bit_flip\",\n",
    "    \"mut_cycles\": None,\n",
    "    \"bit_flips\": None,\n",
    "    \"xo_prob\": 0.9,\n",
    "    \"crossover\": crossover,\n",
    "    \"xo_type\": \"one-point\",\n",
    "    \"elitism\": True\n",
    "    }\n",
    "\n",
    "results, product_count, table, nutri = evaluation(population_size=500, evolve_parameters=evolve_parameters)"
   ]
  },
  {
   "cell_type": "code",
   "execution_count": null,
   "metadata": {},
   "outputs": [],
   "source": [
    "plot_results(results, product_count, table, nutri)"
   ]
  },
  {
   "attachments": {},
   "cell_type": "markdown",
   "metadata": {},
   "source": [
    "**Conclusion**\n",
    "\n",
    "|Metric      |Score        |\n",
    "|------------|-----        |\n",
    "|Avg. Fitness|fill in value|\n",
    "|Std. Fitness|fill in value|\n",
    "\n",
    "- Algorithm decreases slowly\n",
    "- Volatile curves\n",
    "- No convergence reached\n",
    "\n",
    "---"
   ]
  },
  {
   "attachments": {},
   "cell_type": "markdown",
   "metadata": {},
   "source": [
    "# 2nd Run\n",
    "\n",
    "|Parameter                 | Value             |\n",
    "|--------------------------|-------------------|\n",
    "|Generations per Iterarion:| 100               |\n",
    "|Population Size:          | 500               |               \n",
    "|Selection:                | **Ranked**        |\n",
    "|Mutation:                 | Single-Bit-Flip   |\n",
    "|Crossover:                | One-Point         |\n",
    "|Elitism:                  | True              |\n",
    "\n",
    "Changing Selection from **Roulette** to **Ranked**"
   ]
  },
  {
   "cell_type": "code",
   "execution_count": null,
   "metadata": {},
   "outputs": [],
   "source": [
    "evolve_parameters = {\n",
    "    \"select\": ranked,\n",
    "    \"tournament_k\": None,\n",
    "    \"gens\": 30,\n",
    "    \"mut_prob\": 0.2,\n",
    "    \"mutate\": mutation,\n",
    "    \"mut_type\": \"single_bit_flip\",\n",
    "    \"mut_cycles\": None,\n",
    "    \"bit_flips\": None,\n",
    "    \"xo_prob\": 0.9,\n",
    "    \"crossover\": crossover,\n",
    "    \"xo_type\": \"one-point\",\n",
    "    \"elitism\": True\n",
    "    }\n",
    "\n",
    "results, product_count, table, nutri = evaluation(population_size=500, evolve_parameters=evolve_parameters)"
   ]
  },
  {
   "cell_type": "code",
   "execution_count": null,
   "metadata": {},
   "outputs": [],
   "source": [
    "plot_results(results, product_count, table, nutri)"
   ]
  },
  {
   "attachments": {},
   "cell_type": "markdown",
   "metadata": {},
   "source": [
    "**Conclusion**\n",
    "\n",
    "|Metric      |Score        |\n",
    "|------------|-----        |\n",
    "|Avg. Fitness|fill in value|\n",
    "|Std. Fitness|fill in value|\n",
    "\n",
    "Changing the selection algorithm helps speeding up the minimization\n",
    "\n",
    "---"
   ]
  },
  {
   "attachments": {},
   "cell_type": "markdown",
   "metadata": {},
   "source": [
    "# 3rd Run\n",
    "\n",
    "|Parameter                 | Value             |\n",
    "|--------------------------|-------------------|\n",
    "|Generations per Iterarion:| 100               |\n",
    "|Population Size:          | 500               |               \n",
    "|Selection:                | **Tournament**    |\n",
    "|Mutation:                 | Single-Bit-Flip   |\n",
    "|Crossover:                | One-Point         |\n",
    "|Elitism:                  | True              |\n",
    "\n",
    "Changing Selection from **Ranked** to **Tournament** (k = 5)"
   ]
  },
  {
   "cell_type": "code",
   "execution_count": null,
   "metadata": {},
   "outputs": [],
   "source": [
    "evolve_parameters = {\n",
    "    \"select\": tournament,\n",
    "    \"tournament_k\": 5,\n",
    "    \"gens\": 30,\n",
    "    \"mut_prob\": 0.2,\n",
    "    \"mutate\": mutation,\n",
    "    \"mut_type\": \"single_bit_flip\",\n",
    "    \"mut_cycles\": None,\n",
    "    \"bit_flips\": None,\n",
    "    \"xo_prob\": 0.9,\n",
    "    \"crossover\": crossover,\n",
    "    \"xo_type\": \"one-point\",\n",
    "    \"elitism\": True\n",
    "    }\n",
    "\n",
    "results, product_count, table, nutri = evaluation(population_size=500, evolve_parameters=evolve_parameters)"
   ]
  },
  {
   "cell_type": "code",
   "execution_count": null,
   "metadata": {},
   "outputs": [],
   "source": [
    "plot_results(results, product_count, table, nutri)"
   ]
  },
  {
   "attachments": {},
   "cell_type": "markdown",
   "metadata": {},
   "source": [
    "**Conclusion**\n",
    "\n",
    "|Metric      |Score        |\n",
    "|------------|-----        |\n",
    "|Avg. Fitness|fill in value|\n",
    "|Std. Fitness|fill in value|\n",
    "\n",
    "By only manipulating the **Selection Parameter** (ceteris paribus) **Tournament** seems to minimizes the fitness function the fastest\n",
    "\n",
    "---"
   ]
  },
  {
   "attachments": {},
   "cell_type": "markdown",
   "metadata": {},
   "source": [
    "# 4th Run\n",
    "\n",
    "|Parameter                 | Value             |\n",
    "|--------------------------|-------------------|\n",
    "|Generations per Iterarion:| 100               |\n",
    "|Population Size:          | 500               |\n",
    "|Selection:                | Tournament        |\n",
    "|Mutation:                 | Single-Bit-Flip   |\n",
    "|Crossover:                | **Five-Point**    |\n",
    "|Elitism:                  | True              |\n",
    "\n",
    "Changing Crossover from **One-Point** to **Five-Point**"
   ]
  },
  {
   "cell_type": "code",
   "execution_count": null,
   "metadata": {},
   "outputs": [],
   "source": [
    "evolve_parameters = {\n",
    "    \"select\": tournament,\n",
    "    \"tournament_k\": 5,\n",
    "    \"gens\": 30,\n",
    "    \"mut_prob\": 0.2,\n",
    "    \"mutate\": mutation,\n",
    "    \"mut_type\": \"single_bit_flip\",\n",
    "    \"mut_cycles\": None,\n",
    "    \"bit_flips\": None,\n",
    "    \"xo_prob\": 0.9,\n",
    "    \"crossover\": crossover,\n",
    "    \"xo_type\": \"five-point\",\n",
    "    \"elitism\": True\n",
    "    }\n",
    "\n",
    "results, product_count, table, nutri = evaluation(population_size=500, evolve_parameters=evolve_parameters)"
   ]
  },
  {
   "cell_type": "code",
   "execution_count": null,
   "metadata": {},
   "outputs": [],
   "source": [
    "plot_results(results, product_count, table, nutri)"
   ]
  },
  {
   "attachments": {},
   "cell_type": "markdown",
   "metadata": {},
   "source": [
    "**Conclusion**\n",
    "\n",
    "|Metric      |Score        |\n",
    "|------------|-----        |\n",
    "|Avg. Fitness|fill in value|\n",
    "|Std. Fitness|fill in value|\n",
    "\n",
    "---"
   ]
  },
  {
   "attachments": {},
   "cell_type": "markdown",
   "metadata": {},
   "source": [
    "# 5th Run\n",
    "\n",
    "|Parameter                 | Value             |\n",
    "|--------------------------|-------------------|\n",
    "|Generations per Iterarion:| 100               |\n",
    "|Population Size:          | 500               |\n",
    "|Selection:                | Tournament        |\n",
    "|Mutation:                 | Single-Bit-Flip   |\n",
    "|Crossover:                | **Ten-Point**     |\n",
    "|Elitism:                  | True              |\n",
    "\n",
    "Changing Crossover from **Five-Point** to **Ten-Point**"
   ]
  },
  {
   "cell_type": "code",
   "execution_count": null,
   "metadata": {},
   "outputs": [],
   "source": [
    "evolve_parameters = {\n",
    "    \"select\": tournament,\n",
    "    \"tournament_k\": 5,\n",
    "    \"gens\": 30,\n",
    "    \"mut_prob\": 0.2,\n",
    "    \"mutate\": mutation,\n",
    "    \"mut_type\": \"single_bit_flip\",\n",
    "    \"mut_cycles\": None,\n",
    "    \"bit_flips\": None,\n",
    "    \"xo_prob\": 0.9,\n",
    "    \"crossover\": crossover,\n",
    "    \"xo_type\": \"ten-point\",\n",
    "    \"elitism\": True\n",
    "    }\n",
    "\n",
    "results, product_count, table, nutri = evaluation(population_size=500, evolve_parameters=evolve_parameters)"
   ]
  },
  {
   "cell_type": "code",
   "execution_count": null,
   "metadata": {},
   "outputs": [],
   "source": [
    "plot_results(results, product_count, table, nutri)"
   ]
  },
  {
   "attachments": {},
   "cell_type": "markdown",
   "metadata": {},
   "source": [
    "**Conclusion**\n",
    "\n",
    "|Metric      |Score        |\n",
    "|------------|-----        |\n",
    "|Avg. Fitness|fill in value|\n",
    "|Std. Fitness|fill in value|\n",
    "\n",
    "---"
   ]
  },
  {
   "attachments": {},
   "cell_type": "markdown",
   "metadata": {},
   "source": [
    "# 6th Run\n",
    "\n",
    "|Parameter                 | Value             |\n",
    "|--------------------------|-------------------|\n",
    "|Generations per Iterarion:| 100               |\n",
    "|Population Size:          | 500               |\n",
    "|Selection:                | Tournament        |\n",
    "|Mutation:                 | Single-Bit-Flip   |\n",
    "|Crossover:                | **Uniform**       |\n",
    "|Elitism:                  | True              |\n",
    "\n",
    "Changing Crossover from **Ten-Point** to **Uniform**"
   ]
  },
  {
   "cell_type": "code",
   "execution_count": null,
   "metadata": {},
   "outputs": [],
   "source": [
    "evolve_parameters = {\n",
    "    \"select\": tournament,\n",
    "    \"tournament_k\": 5,\n",
    "    \"gens\": 30,\n",
    "    \"mut_prob\": 0.2,\n",
    "    \"mutate\": mutation,\n",
    "    \"mut_type\": \"single_bit_flip\",\n",
    "    \"mut_cycles\": None,\n",
    "    \"bit_flips\": None,\n",
    "    \"xo_prob\": 0.9,\n",
    "    \"crossover\": crossover,\n",
    "    \"xo_type\": \"uniform\",\n",
    "    \"elitism\": True\n",
    "    }\n",
    "\n",
    "results, product_count, table, nutri = evaluation(population_size=500, evolve_parameters=evolve_parameters)"
   ]
  },
  {
   "cell_type": "code",
   "execution_count": null,
   "metadata": {},
   "outputs": [],
   "source": [
    "plot_results(results, product_count, table, nutri)"
   ]
  },
  {
   "attachments": {},
   "cell_type": "markdown",
   "metadata": {},
   "source": [
    "**Conclusion**\n",
    "\n",
    "|Metric      |Score        |\n",
    "|------------|-----        |\n",
    "|Avg. Fitness|fill in value|\n",
    "|Std. Fitness|fill in value|\n",
    "\n",
    "---"
   ]
  },
  {
   "attachments": {},
   "cell_type": "markdown",
   "metadata": {},
   "source": [
    "# 7th Run\n",
    "\n",
    "|Parameter                 | Value                           |\n",
    "|--------------------------|---------------------------------|\n",
    "|Generations per Iterarion:| 100                             |\n",
    "|Population Size:          | 500                             |\n",
    "|Selection:                | Tournament                      |\n",
    "|Mutation:                 | **Complete_Bit_Flip**           |\n",
    "|Crossover:                | Ten-Point                       |\n",
    "|Elitism:                  | True                            |\n",
    "\n",
    "Changing Mutation from **Single-Bit-Flip** to **Complete_Bit_Flip**"
   ]
  },
  {
   "cell_type": "code",
   "execution_count": null,
   "metadata": {},
   "outputs": [],
   "source": [
    "evolve_parameters = {\n",
    "    \"select\": tournament,\n",
    "    \"tournament_k\": 5,\n",
    "    \"gens\": 30,\n",
    "    \"mut_prob\": 0.2,\n",
    "    \"mutate\": mutation,\n",
    "    \"mut_type\": \"complete_bit_flip\",\n",
    "    \"mut_cycles\": None,\n",
    "    \"bit_flips\": None,\n",
    "    \"xo_prob\": 0.9,\n",
    "    \"crossover\": crossover,\n",
    "    \"xo_type\": \"ten-point\",\n",
    "    \"elitism\": True\n",
    "    }\n",
    "\n",
    "results, product_count, table, nutri = evaluation(population_size=500, evolve_parameters=evolve_parameters)"
   ]
  },
  {
   "cell_type": "code",
   "execution_count": null,
   "metadata": {},
   "outputs": [],
   "source": [
    "plot_results(results, product_count, table, nutri)"
   ]
  },
  {
   "attachments": {},
   "cell_type": "markdown",
   "metadata": {},
   "source": [
    "**Conclusion**\n",
    "\n",
    "|Metric      |Score        |\n",
    "|------------|-----        |\n",
    "|Avg. Fitness|fill in value|\n",
    "|Std. Fitness|fill in value|\n",
    "\n",
    "---"
   ]
  },
  {
   "attachments": {},
   "cell_type": "markdown",
   "metadata": {},
   "source": [
    "# 8th Run\n",
    "\n",
    "|Parameter                 | Value                           |\n",
    "|--------------------------|---------------------------------|\n",
    "|Generations per Iterarion:| 100                             |\n",
    "|Population Size:          | 500                             |\n",
    "|Selection:                | Tournament                      |\n",
    "|Mutation:                 | **Single_Swap_Mutation**        |\n",
    "|Crossover:                | Ten-Point                       |\n",
    "|Elitism:                  | True                            |\n",
    "\n",
    "Changing Mutation from **Complete_Bit_Flip** to **Single_Swap_Mutation**"
   ]
  },
  {
   "cell_type": "code",
   "execution_count": null,
   "metadata": {},
   "outputs": [],
   "source": [
    "evolve_parameters = {\n",
    "    \"select\": tournament,\n",
    "    \"tournament_k\": 5,\n",
    "    \"gens\": 30,\n",
    "    \"mut_prob\": 0.2,\n",
    "    \"mutate\": mutation,\n",
    "    \"mut_type\": \"single_swap_mutation\",\n",
    "    \"mut_cycles\": None,\n",
    "    \"bit_flips\": None,\n",
    "    \"xo_prob\": 0.9,\n",
    "    \"crossover\": crossover,\n",
    "    \"xo_type\": \"ten-point\",\n",
    "    \"elitism\": True\n",
    "    }\n",
    "\n",
    "results, product_count, table, nutri = evaluation(population_size=500, evolve_parameters=evolve_parameters)"
   ]
  },
  {
   "cell_type": "code",
   "execution_count": null,
   "metadata": {},
   "outputs": [],
   "source": [
    "plot_results(results, product_count, table, nutri)"
   ]
  },
  {
   "attachments": {},
   "cell_type": "markdown",
   "metadata": {},
   "source": [
    "**Conclusion**\n",
    "\n",
    "|Metric      |Score        |\n",
    "|------------|-----        |\n",
    "|Avg. Fitness|fill in value|\n",
    "|Std. Fitness|fill in value|\n",
    "\n",
    "---"
   ]
  },
  {
   "attachments": {},
   "cell_type": "markdown",
   "metadata": {},
   "source": [
    "# 9th Run\n",
    "\n",
    "|Parameter                 | Value                           |\n",
    "|--------------------------|---------------------------------|\n",
    "|Generations per Iterarion:| 100                             |\n",
    "|Population Size:          | 500                             |\n",
    "|Selection:                | Tournament                      |\n",
    "|Mutation:                 | **Multiple_Bit_Flip_Mutation**  |\n",
    "|Crossover:                | Ten-Point                       |\n",
    "|Elitism:                  | True                            |\n",
    "\n",
    "Changing Mutation from **Single_Swap_Mutation** to **Multiple_Bit_Flip_Mutation**"
   ]
  },
  {
   "cell_type": "code",
   "execution_count": null,
   "metadata": {},
   "outputs": [],
   "source": [
    "evolve_parameters = {\n",
    "    \"select\": tournament,\n",
    "    \"tournament_k\": 5,\n",
    "    \"gens\": 30,\n",
    "    \"mut_prob\": 0.2,\n",
    "    \"mutate\": mutation,\n",
    "    \"mut_type\": \"multiple_bit_flip_mutation\",\n",
    "    \"mut_cycles\": None,\n",
    "    \"bit_flips\": None,\n",
    "    \"xo_prob\": 0.9,\n",
    "    \"crossover\": crossover,\n",
    "    \"xo_type\": \"ten-point\",\n",
    "    \"elitism\": True\n",
    "    }\n",
    "\n",
    "results, product_count, table, nutri = evaluation(population_size=500, evolve_parameters=evolve_parameters)"
   ]
  },
  {
   "cell_type": "code",
   "execution_count": null,
   "metadata": {},
   "outputs": [],
   "source": [
    "plot_results(results, product_count, table, nutri)"
   ]
  },
  {
   "attachments": {},
   "cell_type": "markdown",
   "metadata": {},
   "source": [
    "**Conclusion**\n",
    "\n",
    "|Metric      |Score        |\n",
    "|------------|-----        |\n",
    "|Avg. Fitness|fill in value|\n",
    "|Std. Fitness|fill in value|\n",
    "\n",
    "---"
   ]
  },
  {
   "attachments": {},
   "cell_type": "markdown",
   "metadata": {},
   "source": [
    "# 10th Run\n",
    "\n",
    "|Parameter                 | Value                           |\n",
    "|--------------------------|---------------------------------|\n",
    "|Generations per Iterarion:| 100                             |\n",
    "|Population Size:          | 500                             |\n",
    "|Selection:                | Tournament                      |\n",
    "|Mutation:                 | **Scramble_Mutation**           |\n",
    "|Crossover:                | Ten-Point                       |\n",
    "|Elitism:                  | True                            |\n",
    "\n",
    "Changing Mutation from **Multiple_Bit_Flip_Mutation** to **Scramble_Mutation**"
   ]
  },
  {
   "cell_type": "code",
   "execution_count": null,
   "metadata": {},
   "outputs": [],
   "source": [
    "evolve_parameters = {\n",
    "    \"select\": tournament,\n",
    "    \"tournament_k\": 5,\n",
    "    \"gens\": 30,\n",
    "    \"mut_prob\": 0.2,\n",
    "    \"mutate\": mutation,\n",
    "    \"mut_type\": \"scramble_mutation\",\n",
    "    \"mut_cycles\": None,\n",
    "    \"bit_flips\": None,\n",
    "    \"xo_prob\": 0.9,\n",
    "    \"crossover\": crossover,\n",
    "    \"xo_type\": \"ten-point\",\n",
    "    \"elitism\": True\n",
    "    }\n",
    "\n",
    "results, product_count, table, nutri = evaluation(population_size=500, evolve_parameters=evolve_parameters)"
   ]
  },
  {
   "cell_type": "code",
   "execution_count": null,
   "metadata": {},
   "outputs": [],
   "source": [
    "plot_results(results, product_count, table, nutri)"
   ]
  },
  {
   "attachments": {},
   "cell_type": "markdown",
   "metadata": {},
   "source": [
    "**Conclusion**\n",
    "\n",
    "|Metric      |Score        |\n",
    "|------------|-----        |\n",
    "|Avg. Fitness|fill in value|\n",
    "|Std. Fitness|fill in value|\n",
    "\n",
    "---"
   ]
  },
  {
   "attachments": {},
   "cell_type": "markdown",
   "metadata": {},
   "source": [
    "# Final Run\n",
    "\n",
    "|Parameter                 | Value                           |\n",
    "|--------------------------|---------------------------------|\n",
    "|Generations per Iterarion:| *insert value*                  |\n",
    "|Population Size:          | *insert value*                  |\n",
    "|Selection:                | *insert value*                  |\n",
    "|Mutation:                 | *insert value*                  |\n",
    "|Crossover:                | *insert value*                  |\n",
    "|Elitism:                  | *insert value*                  |"
   ]
  },
  {
   "cell_type": "code",
   "execution_count": null,
   "metadata": {},
   "outputs": [],
   "source": [
    "evolve_parameters = {\n",
    "    \"select\": tournament,\n",
    "    \"tournament_k\": 5,\n",
    "    \"gens\": 30,\n",
    "    \"mut_prob\": 0.2,\n",
    "    \"mutate\": mutation,\n",
    "    \"mut_type\": \"single_swap_mutation\",\n",
    "    \"mut_cycles\": None,\n",
    "    \"bit_flips\": None,\n",
    "    \"xo_prob\": 0.9,\n",
    "    \"crossover\": crossover,\n",
    "    \"xo_type\": \"ten-point\",\n",
    "    \"elitism\": True\n",
    "    }\n",
    "\n",
    "results, product_count, table, nutri = evaluation(population_size=100, evolve_parameters=evolve_parameters)"
   ]
  },
  {
   "cell_type": "code",
   "execution_count": null,
   "metadata": {},
   "outputs": [],
   "source": [
    "plot_results(results, product_count, table, nutri)"
   ]
  },
  {
   "attachments": {},
   "cell_type": "markdown",
   "metadata": {},
   "source": [
    "**Conclusion**\n",
    "\n",
    "|Metric      |Score        |\n",
    "|------------|-----        |\n",
    "|Avg. Fitness|fill in value|\n",
    "|Std. Fitness|fill in value|\n",
    "\n",
    "---"
   ]
  }
 ],
 "metadata": {
  "kernelspec": {
   "display_name": "nova",
   "language": "python",
   "name": "python3"
  },
  "language_info": {
   "codemirror_mode": {
    "name": "ipython",
    "version": 3
   },
   "file_extension": ".py",
   "mimetype": "text/x-python",
   "name": "python",
   "nbconvert_exporter": "python",
   "pygments_lexer": "ipython3",
   "version": "3.10.10"
  },
  "orig_nbformat": 4
 },
 "nbformat": 4,
 "nbformat_minor": 2
}
